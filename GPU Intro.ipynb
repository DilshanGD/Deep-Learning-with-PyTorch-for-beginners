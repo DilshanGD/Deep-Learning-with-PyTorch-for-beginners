{
 "cells": [
  {
   "cell_type": "code",
   "execution_count": 14,
   "metadata": {},
   "outputs": [
    {
     "name": "stdout",
     "output_type": "stream",
     "text": [
      "Fri Jan 31 16:40:11 2025       \n",
      "+-----------------------------------------------------------------------------------------+\n",
      "| NVIDIA-SMI 550.120                Driver Version: 550.120        CUDA Version: 12.4     |\n",
      "|-----------------------------------------+------------------------+----------------------+\n",
      "| GPU  Name                 Persistence-M | Bus-Id          Disp.A | Volatile Uncorr. ECC |\n",
      "| Fan  Temp   Perf          Pwr:Usage/Cap |           Memory-Usage | GPU-Util  Compute M. |\n",
      "|                                         |                        |               MIG M. |\n",
      "|=========================================+========================+======================|\n",
      "|   0  NVIDIA GeForce RTX 4060 ...    Off |   00000000:01:00.0  On |                  N/A |\n",
      "| N/A   50C    P8              6W /   80W |     502MiB /   8188MiB |     16%      Default |\n",
      "|                                         |                        |                  N/A |\n",
      "+-----------------------------------------+------------------------+----------------------+\n",
      "                                                                                         \n",
      "+-----------------------------------------------------------------------------------------+\n",
      "| Processes:                                                                              |\n",
      "|  GPU   GI   CI        PID   Type   Process name                              GPU Memory |\n",
      "|        ID   ID                                                               Usage      |\n",
      "|=========================================================================================|\n",
      "|    0   N/A  N/A      2215      G   /usr/lib/xorg/Xorg                            202MiB |\n",
      "|    0   N/A  N/A      2525      G   /usr/bin/gnome-shell                           28MiB |\n",
      "|    0   N/A  N/A      3302      G   ...irefox/5647/usr/lib/firefox/firefox         20MiB |\n",
      "|    0   N/A  N/A      7003      G   /usr/bin/nautilus                              32MiB |\n",
      "|    0   N/A  N/A     11248      G   ...erProcess --variations-seed-version         46MiB |\n",
      "|    0   N/A  N/A     13851      G   /usr/bin/mpv                                   55MiB |\n",
      "|    0   N/A  N/A     16577      C   ...aconda3/envs/envResearch/bin/python         94MiB |\n",
      "+-----------------------------------------------------------------------------------------+\n"
     ]
    }
   ],
   "source": [
    "import torch\n",
    "\n",
    "# Print nvidia specifications\n",
    "!nvidia-smi"
   ]
  },
  {
   "cell_type": "code",
   "execution_count": 15,
   "metadata": {},
   "outputs": [
    {
     "data": {
      "text/plain": [
       "True"
      ]
     },
     "execution_count": 15,
     "metadata": {},
     "output_type": "execute_result"
    }
   ],
   "source": [
    "# Check GPU access with pytorch\n",
    "\n",
    "torch.cuda.is_available()"
   ]
  },
  {
   "cell_type": "code",
   "execution_count": 16,
   "metadata": {},
   "outputs": [
    {
     "data": {
      "text/plain": [
       "'cuda'"
      ]
     },
     "execution_count": 16,
     "metadata": {},
     "output_type": "execute_result"
    }
   ],
   "source": [
    "# Setup device agnostic code\n",
    "\n",
    "device = \"cuda\" if torch.cuda.is_available() else \"cpu\"\n",
    "device"
   ]
  },
  {
   "cell_type": "markdown",
   "metadata": {},
   "source": [
    "## Putting tensors (and models) on the GPU"
   ]
  },
  {
   "cell_type": "code",
   "execution_count": 17,
   "metadata": {},
   "outputs": [
    {
     "name": "stdout",
     "output_type": "stream",
     "text": [
      "tensor([1, 2, 3, 4, 5]) cpu\n"
     ]
    }
   ],
   "source": [
    "# Create a tensor (default on CPU)\n",
    "\n",
    "defaultTensor = torch.tensor([1, 2, 3, 4 ,5])\n",
    "\n",
    "print(defaultTensor, defaultTensor.device)"
   ]
  },
  {
   "cell_type": "code",
   "execution_count": 23,
   "metadata": {},
   "outputs": [
    {
     "name": "stdout",
     "output_type": "stream",
     "text": [
      "cuda:0\n"
     ]
    }
   ],
   "source": [
    "# Move tensor to GPU\n",
    "# Following two methods are equivalent\n",
    "\n",
    "#tensor_on_gpu = defaultTensor.to(device)\n",
    "tensor_on_gpu = defaultTensor.cuda()\n",
    "\n",
    "print(tensor_on_gpu.device)\n"
   ]
  },
  {
   "cell_type": "code",
   "execution_count": 24,
   "metadata": {},
   "outputs": [
    {
     "name": "stdout",
     "output_type": "stream",
     "text": [
      "cpu\n"
     ]
    }
   ],
   "source": [
    "# Move tensor back to CPU\n",
    "# Following two methods are equivalent\n",
    "\n",
    "#tensor_on_cpu = tensor_on_gpu.to(\"cpu\")\n",
    "tensor_on_cpu = tensor_on_gpu.cpu()\n",
    "\n",
    "print(tensor_on_cpu.device)"
   ]
  }
 ],
 "metadata": {
  "kernelspec": {
   "display_name": "envResearch",
   "language": "python",
   "name": "python3"
  },
  "language_info": {
   "codemirror_mode": {
    "name": "ipython",
    "version": 3
   },
   "file_extension": ".py",
   "mimetype": "text/x-python",
   "name": "python",
   "nbconvert_exporter": "python",
   "pygments_lexer": "ipython3",
   "version": "3.9.16"
  }
 },
 "nbformat": 4,
 "nbformat_minor": 2
}
