{
 "cells": [
  {
   "cell_type": "markdown",
   "metadata": {},
   "source": [
    "# Common ways to improve a deep model:\n",
    "\n",
    "* Adding layers\n",
    "* Increase the number of hidden units\n",
    "* Change/Add activation functions\n",
    "* Change the optimization function\n",
    "* Change the learning rate\n",
    "* Fitting for longer"
   ]
  }
 ],
 "metadata": {
  "language_info": {
   "name": "python"
  }
 },
 "nbformat": 4,
 "nbformat_minor": 2
}
