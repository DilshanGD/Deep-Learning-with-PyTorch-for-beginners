{
 "cells": [
  {
   "cell_type": "markdown",
   "metadata": {},
   "source": [
    "# Classification\n",
    "\n",
    "***nn.BCELoss()*** -> Expects prediction probabilities as input.\n",
    "\n",
    "***nn.BCEWithLogitsLoss()*** -> Expects raw logits as input."
   ]
  }
 ],
 "metadata": {
  "language_info": {
   "name": "python"
  }
 },
 "nbformat": 4,
 "nbformat_minor": 2
}
